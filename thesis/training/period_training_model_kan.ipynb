{
 "cells": [
  {
   "cell_type": "code",
   "execution_count": 89,
   "metadata": {},
   "outputs": [
    {
     "name": "stdout",
     "output_type": "stream",
     "text": [
      "Requirement already satisfied: pykan in /Users/dasha/Downloads/Darya DDOA paper simulation/myenv/lib/python3.11/site-packages (0.2.4)\n",
      "Requirement already satisfied: torch in /Users/dasha/Downloads/Darya DDOA paper simulation/myenv/lib/python3.11/site-packages (2.4.0)\n",
      "Requirement already satisfied: onnx in /Users/dasha/Downloads/Darya DDOA paper simulation/myenv/lib/python3.11/site-packages (1.16.2)\n",
      "Requirement already satisfied: keras in /Users/dasha/Downloads/Darya DDOA paper simulation/myenv/lib/python3.11/site-packages (3.4.1)\n",
      "Requirement already satisfied: onnx2keras in /Users/dasha/Downloads/Darya DDOA paper simulation/myenv/lib/python3.11/site-packages (0.0.24)\n",
      "Requirement already satisfied: h5py in /Users/dasha/Downloads/Darya DDOA paper simulation/myenv/lib/python3.11/site-packages (3.11.0)\n",
      "Requirement already satisfied: filelock in /Users/dasha/Downloads/Darya DDOA paper simulation/myenv/lib/python3.11/site-packages (from torch) (3.15.4)\n",
      "Requirement already satisfied: typing-extensions>=4.8.0 in /Users/dasha/Downloads/Darya DDOA paper simulation/myenv/lib/python3.11/site-packages (from torch) (4.12.2)\n",
      "Requirement already satisfied: sympy in /Users/dasha/Downloads/Darya DDOA paper simulation/myenv/lib/python3.11/site-packages (from torch) (1.13.1)\n",
      "Requirement already satisfied: networkx in /Users/dasha/Downloads/Darya DDOA paper simulation/myenv/lib/python3.11/site-packages (from torch) (3.3)\n",
      "Requirement already satisfied: jinja2 in /Users/dasha/Downloads/Darya DDOA paper simulation/myenv/lib/python3.11/site-packages (from torch) (3.1.4)\n",
      "Requirement already satisfied: fsspec in /Users/dasha/Downloads/Darya DDOA paper simulation/myenv/lib/python3.11/site-packages (from torch) (2024.6.1)\n",
      "Requirement already satisfied: numpy>=1.20 in /Users/dasha/Downloads/Darya DDOA paper simulation/myenv/lib/python3.11/site-packages (from onnx) (1.26.4)\n",
      "Requirement already satisfied: protobuf>=3.20.2 in /Users/dasha/Downloads/Darya DDOA paper simulation/myenv/lib/python3.11/site-packages (from onnx) (4.25.3)\n",
      "Requirement already satisfied: absl-py in /Users/dasha/Downloads/Darya DDOA paper simulation/myenv/lib/python3.11/site-packages (from keras) (2.1.0)\n",
      "Requirement already satisfied: rich in /Users/dasha/Downloads/Darya DDOA paper simulation/myenv/lib/python3.11/site-packages (from keras) (13.7.1)\n",
      "Requirement already satisfied: namex in /Users/dasha/Downloads/Darya DDOA paper simulation/myenv/lib/python3.11/site-packages (from keras) (0.0.8)\n",
      "Requirement already satisfied: optree in /Users/dasha/Downloads/Darya DDOA paper simulation/myenv/lib/python3.11/site-packages (from keras) (0.12.1)\n",
      "Requirement already satisfied: ml-dtypes in /Users/dasha/Downloads/Darya DDOA paper simulation/myenv/lib/python3.11/site-packages (from keras) (0.4.0)\n",
      "Requirement already satisfied: packaging in /Users/dasha/Downloads/Darya DDOA paper simulation/myenv/lib/python3.11/site-packages (from keras) (24.1)\n",
      "Requirement already satisfied: tensorflow in /Users/dasha/Downloads/Darya DDOA paper simulation/myenv/lib/python3.11/site-packages (from onnx2keras) (2.17.0)\n",
      "Requirement already satisfied: MarkupSafe>=2.0 in /Users/dasha/Downloads/Darya DDOA paper simulation/myenv/lib/python3.11/site-packages (from jinja2->torch) (2.1.5)\n",
      "Requirement already satisfied: markdown-it-py>=2.2.0 in /Users/dasha/Downloads/Darya DDOA paper simulation/myenv/lib/python3.11/site-packages (from rich->keras) (3.0.0)\n",
      "Requirement already satisfied: pygments<3.0.0,>=2.13.0 in /Users/dasha/Downloads/Darya DDOA paper simulation/myenv/lib/python3.11/site-packages (from rich->keras) (2.18.0)\n",
      "Requirement already satisfied: mpmath<1.4,>=1.1.0 in /Users/dasha/Downloads/Darya DDOA paper simulation/myenv/lib/python3.11/site-packages (from sympy->torch) (1.3.0)\n",
      "Requirement already satisfied: astunparse>=1.6.0 in /Users/dasha/Downloads/Darya DDOA paper simulation/myenv/lib/python3.11/site-packages (from tensorflow->onnx2keras) (1.6.3)\n",
      "Requirement already satisfied: flatbuffers>=24.3.25 in /Users/dasha/Downloads/Darya DDOA paper simulation/myenv/lib/python3.11/site-packages (from tensorflow->onnx2keras) (24.3.25)\n",
      "Requirement already satisfied: gast!=0.5.0,!=0.5.1,!=0.5.2,>=0.2.1 in /Users/dasha/Downloads/Darya DDOA paper simulation/myenv/lib/python3.11/site-packages (from tensorflow->onnx2keras) (0.6.0)\n",
      "Requirement already satisfied: google-pasta>=0.1.1 in /Users/dasha/Downloads/Darya DDOA paper simulation/myenv/lib/python3.11/site-packages (from tensorflow->onnx2keras) (0.2.0)\n",
      "Requirement already satisfied: libclang>=13.0.0 in /Users/dasha/Downloads/Darya DDOA paper simulation/myenv/lib/python3.11/site-packages (from tensorflow->onnx2keras) (18.1.1)\n",
      "Requirement already satisfied: opt-einsum>=2.3.2 in /Users/dasha/Downloads/Darya DDOA paper simulation/myenv/lib/python3.11/site-packages (from tensorflow->onnx2keras) (3.3.0)\n",
      "Requirement already satisfied: requests<3,>=2.21.0 in /Users/dasha/Downloads/Darya DDOA paper simulation/myenv/lib/python3.11/site-packages (from tensorflow->onnx2keras) (2.32.3)\n",
      "Requirement already satisfied: setuptools in /Users/dasha/Downloads/Darya DDOA paper simulation/myenv/lib/python3.11/site-packages (from tensorflow->onnx2keras) (65.5.0)\n",
      "Requirement already satisfied: six>=1.12.0 in /Users/dasha/Downloads/Darya DDOA paper simulation/myenv/lib/python3.11/site-packages (from tensorflow->onnx2keras) (1.16.0)\n",
      "Requirement already satisfied: termcolor>=1.1.0 in /Users/dasha/Downloads/Darya DDOA paper simulation/myenv/lib/python3.11/site-packages (from tensorflow->onnx2keras) (2.4.0)\n",
      "Requirement already satisfied: wrapt>=1.11.0 in /Users/dasha/Downloads/Darya DDOA paper simulation/myenv/lib/python3.11/site-packages (from tensorflow->onnx2keras) (1.16.0)\n",
      "Requirement already satisfied: grpcio<2.0,>=1.24.3 in /Users/dasha/Downloads/Darya DDOA paper simulation/myenv/lib/python3.11/site-packages (from tensorflow->onnx2keras) (1.64.1)\n",
      "Requirement already satisfied: tensorboard<2.18,>=2.17 in /Users/dasha/Downloads/Darya DDOA paper simulation/myenv/lib/python3.11/site-packages (from tensorflow->onnx2keras) (2.17.0)\n",
      "Requirement already satisfied: tensorflow-io-gcs-filesystem>=0.23.1 in /Users/dasha/Downloads/Darya DDOA paper simulation/myenv/lib/python3.11/site-packages (from tensorflow->onnx2keras) (0.37.1)\n",
      "Requirement already satisfied: wheel<1.0,>=0.23.0 in /Users/dasha/Downloads/Darya DDOA paper simulation/myenv/lib/python3.11/site-packages (from astunparse>=1.6.0->tensorflow->onnx2keras) (0.43.0)\n",
      "Requirement already satisfied: mdurl~=0.1 in /Users/dasha/Downloads/Darya DDOA paper simulation/myenv/lib/python3.11/site-packages (from markdown-it-py>=2.2.0->rich->keras) (0.1.2)\n",
      "Requirement already satisfied: charset-normalizer<4,>=2 in /Users/dasha/Downloads/Darya DDOA paper simulation/myenv/lib/python3.11/site-packages (from requests<3,>=2.21.0->tensorflow->onnx2keras) (3.3.2)\n",
      "Requirement already satisfied: idna<4,>=2.5 in /Users/dasha/Downloads/Darya DDOA paper simulation/myenv/lib/python3.11/site-packages (from requests<3,>=2.21.0->tensorflow->onnx2keras) (3.7)\n",
      "Requirement already satisfied: urllib3<3,>=1.21.1 in /Users/dasha/Downloads/Darya DDOA paper simulation/myenv/lib/python3.11/site-packages (from requests<3,>=2.21.0->tensorflow->onnx2keras) (2.2.2)\n",
      "Requirement already satisfied: certifi>=2017.4.17 in /Users/dasha/Downloads/Darya DDOA paper simulation/myenv/lib/python3.11/site-packages (from requests<3,>=2.21.0->tensorflow->onnx2keras) (2024.7.4)\n",
      "Requirement already satisfied: markdown>=2.6.8 in /Users/dasha/Downloads/Darya DDOA paper simulation/myenv/lib/python3.11/site-packages (from tensorboard<2.18,>=2.17->tensorflow->onnx2keras) (3.6)\n",
      "Requirement already satisfied: tensorboard-data-server<0.8.0,>=0.7.0 in /Users/dasha/Downloads/Darya DDOA paper simulation/myenv/lib/python3.11/site-packages (from tensorboard<2.18,>=2.17->tensorflow->onnx2keras) (0.7.2)\n",
      "Requirement already satisfied: werkzeug>=1.0.1 in /Users/dasha/Downloads/Darya DDOA paper simulation/myenv/lib/python3.11/site-packages (from tensorboard<2.18,>=2.17->tensorflow->onnx2keras) (3.0.3)\n",
      "\n",
      "\u001b[1m[\u001b[0m\u001b[34;49mnotice\u001b[0m\u001b[1;39;49m]\u001b[0m\u001b[39;49m A new release of pip is available: \u001b[0m\u001b[31;49m24.1.2\u001b[0m\u001b[39;49m -> \u001b[0m\u001b[32;49m24.2\u001b[0m\n",
      "\u001b[1m[\u001b[0m\u001b[34;49mnotice\u001b[0m\u001b[1;39;49m]\u001b[0m\u001b[39;49m To update, run: \u001b[0m\u001b[32;49mpip install --upgrade pip\u001b[0m\n",
      "Note: you may need to restart the kernel to use updated packages.\n"
     ]
    }
   ],
   "source": [
    "pip install pykan torch onnx keras onnx2keras h5py"
   ]
  },
  {
   "cell_type": "code",
   "execution_count": 94,
   "metadata": {},
   "outputs": [],
   "source": [
    "# Import necessary libraries\n",
    "import numpy as np\n",
    "import pandas as pd\n",
    "import matplotlib.pyplot as plt\n",
    "import seaborn as sns\n",
    "from sklearn.metrics import confusion_matrix, classification_report\n",
    "from sklearn.preprocessing import MinMaxScaler\n",
    "from imblearn.over_sampling import SMOTE\n",
    "from sklearn.model_selection import train_test_split\n",
    "import torch\n",
    "import onnx\n",
    "from onnx2keras import onnx_to_keras\n",
    "from keras.models import load_model\n",
    "from kan import KAN\n"
   ]
  },
  {
   "cell_type": "code",
   "execution_count": 76,
   "metadata": {},
   "outputs": [
    {
     "name": "stdout",
     "output_type": "stream",
     "text": [
      "<class 'pandas.core.frame.DataFrame'>\n",
      "RangeIndex: 2294 entries, 0 to 2293\n",
      "Data columns (total 5 columns):\n",
      " #   Column    Non-Null Count  Dtype  \n",
      "---  ------    --------------  -----  \n",
      " 0   148239.5  2294 non-null   float64\n",
      " 1   1         2294 non-null   float64\n",
      " 2   0.2       2294 non-null   float64\n",
      " 3   149211    2294 non-null   int64  \n",
      " 4   1.1       2294 non-null   int64  \n",
      "dtypes: float64(3), int64(2)\n",
      "memory usage: 89.7 KB\n"
     ]
    }
   ],
   "source": [
    "# Load dataset\n",
    "df = pd.read_csv('../data/period_dataset.csv')\n",
    "df.head()\n",
    "df.shape\n",
    "df.info()"
   ]
  },
  {
   "cell_type": "code",
   "execution_count": 77,
   "metadata": {},
   "outputs": [],
   "source": [
    "# Split dataset into features and labels\n",
    "X = df.values[:, 0:4]\n",
    "y = df.values[:, 4]"
   ]
  },
  {
   "cell_type": "code",
   "execution_count": 78,
   "metadata": {},
   "outputs": [],
   "source": [
    "# Train-test split\n",
    "X_train, X_test, y_train, y_test = train_test_split(X, y, test_size=0.1, random_state=4)"
   ]
  },
  {
   "cell_type": "code",
   "execution_count": 79,
   "metadata": {},
   "outputs": [],
   "source": [
    "# Handle imbalanced data using SMOTE\n",
    "smote = SMOTE(random_state=14)\n",
    "X_train, y_train = smote.fit_resample(X_train, y_train)"
   ]
  },
  {
   "cell_type": "code",
   "execution_count": 80,
   "metadata": {},
   "outputs": [],
   "source": [
    "# Scale features\n",
    "scaler = MinMaxScaler()\n",
    "X_train = scaler.fit_transform(X_train)\n",
    "X_test = scaler.transform(X_test)\n",
    "\n",
    "# Prepare data for KAN model\n",
    "dataset = {}\n",
    "dataset['train_input'] = torch.from_numpy(X_train).float()\n",
    "dataset['test_input'] = torch.from_numpy(X_test).float()\n",
    "dataset['train_label'] = torch.from_numpy(y_train).long()\n",
    "dataset['test_label'] = torch.from_numpy(y_test).long()"
   ]
  },
  {
   "cell_type": "code",
   "execution_count": 90,
   "metadata": {},
   "outputs": [
    {
     "name": "stdout",
     "output_type": "stream",
     "text": [
      "checkpoint directory created: ./model\n",
      "saving model version 0.0\n"
     ]
    }
   ],
   "source": [
    "# Define KAN model\n",
    "model = KAN(width=[4, 2], grid=10, k=5)  # Adjust width according to the number of features\n",
    "\n",
    "# Define training and testing accuracy functions\n",
    "def train_acc():\n",
    "    return torch.mean((torch.argmax(model(dataset['train_input']), dim=1) == dataset['train_label']).float())\n",
    "\n",
    "def test_acc():\n",
    "    return torch.mean((torch.argmax(model(dataset['test_input']), dim=1) == dataset['test_label']).float())\n",
    "\n",
    "# Training parameters\n",
    "optimizer = torch.optim.LBFGS(model.parameters())\n",
    "loss_fn = torch.nn.CrossEntropyLoss()\n"
   ]
  },
  {
   "cell_type": "code",
   "execution_count": 91,
   "metadata": {},
   "outputs": [
    {
     "name": "stdout",
     "output_type": "stream",
     "text": [
      "Step 0/20, Train Loss: 0.0000, Test Loss: 0.0000, Train Acc: 1.0000, Test Acc: 1.0000\n",
      "Step 1/20, Train Loss: 0.0000, Test Loss: 0.0000, Train Acc: 1.0000, Test Acc: 1.0000\n",
      "Step 2/20, Train Loss: 0.0000, Test Loss: 0.0000, Train Acc: 1.0000, Test Acc: 1.0000\n",
      "Step 3/20, Train Loss: 0.0000, Test Loss: 0.0000, Train Acc: 1.0000, Test Acc: 1.0000\n",
      "Step 4/20, Train Loss: 0.0000, Test Loss: 0.0000, Train Acc: 1.0000, Test Acc: 1.0000\n",
      "Step 5/20, Train Loss: 0.0000, Test Loss: 0.0000, Train Acc: 1.0000, Test Acc: 1.0000\n",
      "Step 6/20, Train Loss: 0.0000, Test Loss: 0.0000, Train Acc: 1.0000, Test Acc: 1.0000\n",
      "Step 7/20, Train Loss: 0.0000, Test Loss: 0.0000, Train Acc: 1.0000, Test Acc: 1.0000\n",
      "Step 8/20, Train Loss: 0.0000, Test Loss: 0.0000, Train Acc: 1.0000, Test Acc: 1.0000\n",
      "Step 9/20, Train Loss: 0.0000, Test Loss: 0.0000, Train Acc: 1.0000, Test Acc: 1.0000\n",
      "Step 10/20, Train Loss: 0.0000, Test Loss: 0.0000, Train Acc: 1.0000, Test Acc: 1.0000\n",
      "Step 11/20, Train Loss: 0.0000, Test Loss: 0.0000, Train Acc: 1.0000, Test Acc: 1.0000\n",
      "Step 12/20, Train Loss: 0.0000, Test Loss: 0.0000, Train Acc: 1.0000, Test Acc: 1.0000\n",
      "Step 13/20, Train Loss: 0.0000, Test Loss: 0.0000, Train Acc: 1.0000, Test Acc: 1.0000\n",
      "Step 14/20, Train Loss: 0.0000, Test Loss: 0.0000, Train Acc: 1.0000, Test Acc: 1.0000\n",
      "Step 15/20, Train Loss: 0.0000, Test Loss: 0.0000, Train Acc: 1.0000, Test Acc: 1.0000\n",
      "Step 16/20, Train Loss: 0.0000, Test Loss: 0.0000, Train Acc: 1.0000, Test Acc: 1.0000\n",
      "Step 17/20, Train Loss: 0.0000, Test Loss: 0.0000, Train Acc: 1.0000, Test Acc: 1.0000\n",
      "Step 18/20, Train Loss: 0.0000, Test Loss: 0.0000, Train Acc: 1.0000, Test Acc: 1.0000\n",
      "Step 19/20, Train Loss: 0.0000, Test Loss: 0.0000, Train Acc: 1.0000, Test Acc: 1.0000\n"
     ]
    }
   ],
   "source": [
    "# Training loop\n",
    "steps = 20\n",
    "for step in range(steps):\n",
    "    def closure():\n",
    "        optimizer.zero_grad()\n",
    "        train_output = model(dataset['train_input'])\n",
    "        train_loss = loss_fn(train_output, dataset['train_label'])\n",
    "        train_loss.backward()\n",
    "        return train_loss\n",
    "\n",
    "    optimizer.step(closure)\n",
    "\n",
    "    if step % 1 == 0:\n",
    "        train_loss = closure().item()\n",
    "        test_output = model(dataset['test_input'])\n",
    "        test_loss = loss_fn(test_output, dataset['test_label']).item()\n",
    "        print(f\"Step {step}/{steps}, Train Loss: {train_loss:.4f}, Test Loss: {test_loss:.4f}, Train Acc: {train_acc():.4f}, Test Acc: {test_acc():.4f}\")"
   ]
  },
  {
   "cell_type": "code",
   "execution_count": 104,
   "metadata": {},
   "outputs": [
    {
     "name": "stderr",
     "output_type": "stream",
     "text": [
      "DEBUG:matplotlib.colorbar:locator: <matplotlib.ticker.AutoLocator object at 0x293a04310>\n"
     ]
    },
    {
     "name": "stdout",
     "output_type": "stream",
     "text": [
      "=========classification report========\n",
      "              precision    recall  f1-score   support\n",
      "\n",
      "           0       1.00      1.00      1.00        73\n",
      "           1       1.00      1.00      1.00       157\n",
      "\n",
      "    accuracy                           1.00       230\n",
      "   macro avg       1.00      1.00      1.00       230\n",
      "weighted avg       1.00      1.00      1.00       230\n",
      "\n",
      "=========confusion matrix========\n",
      "[[ 73   0]\n",
      " [  0 157]]\n"
     ]
    },
    {
     "data": {
      "image/png": "[encoded data removed]",
      "text/plain": [
       "<Figure size 800x800 with 2 Axes>"
      ]
     },
     "metadata": {},
     "output_type": "display_data"
    },
    {
     "name": "stderr",
     "output_type": "stream",
     "text": [
      "/Users/dasha/Downloads/Darya DDOA paper simulation/myenv/lib/python3.11/site-packages/kan/MultKAN.py:369: TracerWarning: Converting a tensor to a Python boolean might cause the trace to be incorrect. We can't record the data flow of Python values, so this value will be treated as a constant in the future. This means that the trace might not generalize to other inputs!\n",
      "  assert x.shape[1] == self.width_in[0]\n",
      "/Users/dasha/Downloads/Darya DDOA paper simulation/myenv/lib/python3.11/site-packages/kan/Symbolic_KANLayer.py:111: TracerWarning: Converting a tensor to a Python boolean might cause the trace to be incorrect. We can't record the data flow of Python values, so this value will be treated as a constant in the future. This means that the trace might not generalize to other inputs!\n",
      "  if singularity_avoiding:\n",
      "/Users/dasha/Downloads/Darya DDOA paper simulation/myenv/lib/python3.11/site-packages/torch/onnx/symbolic_opset9.py:2056: FutureWarning: 'torch.onnx.symbolic_opset9._cast_Bool' is deprecated in version 2.0 and will be removed in the future. Please Avoid using this function and create a Cast node instead.\n",
      "  return fn(g, to_cast_func(g, input, False), to_cast_func(g, other, False))\n"
     ]
    },
    {
     "name": "stdout",
     "output_type": "stream",
     "text": [
      "Model has been exported to ONNX format.\n"
     ]
    }
   ],
   "source": [
    "# Evaluate model on test set\n",
    "y_pred = np.argmax(model.forward(dataset['test_input']).detach().numpy(), axis=1)\n",
    "y_true = dataset['test_label'].detach().numpy()\n",
    "\n",
    "print(\"=========classification report========\")\n",
    "print(classification_report(y_true, y_pred))\n",
    "\n",
    "print(\"=========confusion matrix========\")\n",
    "print(confusion_matrix(y_true, y_pred))\n",
    "\n",
    "# Plot confusion matrix\n",
    "fig, ax = plt.subplots(figsize=(8, 8))\n",
    "sns.heatmap(confusion_matrix(y_true, y_pred), annot=True, cmap=\"Blues\", fmt='d')\n",
    "plt.ylabel('Actual')\n",
    "plt.xlabel('Predicted')\n",
    "plt.show()\n",
    "\n",
    "# Convert PyTorch model to ONNX\n",
    "dummy_input = torch.from_numpy(X_test).float()\n",
    "onnx_path = \"period_model_kan.onnx\"\n",
    "torch.onnx.export(model, dummy_input, onnx_path, input_names=['input'], output_names=['output'])\n",
    "\n",
    "print(\"Model has been exported to ONNX format.\")"
   ]
  },
  {
   "cell_type": "code",
   "execution_count": null,
   "metadata": {},
   "outputs": [],
   "source": []
  },
  {
   "cell_type": "code",
   "execution_count": null,
   "metadata": {},
   "outputs": [],
   "source": []
  }
 ],
 "metadata": {
  "kernelspec": {
   "display_name": "myenv",
   "language": "python",
   "name": "python3"
  },
  "language_info": {
   "codemirror_mode": {
    "name": "ipython",
    "version": 3
   },
   "file_extension": ".py",
   "mimetype": "text/x-python",
   "name": "python",
   "nbconvert_exporter": "python",
   "pygments_lexer": "ipython3",
   "version": "3.11.7"
  }
 },
 "nbformat": 4,
 "nbformat_minor": 2
}
